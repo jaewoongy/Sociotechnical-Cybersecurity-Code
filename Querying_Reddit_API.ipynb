{
  "nbformat": 4,
  "nbformat_minor": 0,
  "metadata": {
    "colab": {
      "provenance": []
    },
    "kernelspec": {
      "name": "python3",
      "display_name": "Python 3"
    },
    "language_info": {
      "name": "python"
    }
  },
  "cells": [
    {
      "cell_type": "code",
      "source": [
        "!pip install --quiet asyncpraw\n",
        "!pip install --quiet nest-asyncio\n"
      ],
      "metadata": {
        "id": "zQAR_vGAHv1c",
        "colab": {
          "base_uri": "https://localhost:8080/"
        },
        "outputId": "a90e4b77-877d-4590-e659-965800af22ea"
      },
      "execution_count": null,
      "outputs": [
        {
          "output_type": "stream",
          "name": "stdout",
          "text": [
            "\u001b[?25l   \u001b[90m━━━━━━━━━━━━━━━━━━━━━━━━━━━━━━━━━━━━━━━━\u001b[0m \u001b[32m0.0/196.4 kB\u001b[0m \u001b[31m?\u001b[0m eta \u001b[36m-:--:--\u001b[0m\r\u001b[2K   \u001b[91m━━━━━━━━━━━━━━━━━━━━━━━━━\u001b[0m\u001b[90m╺\u001b[0m\u001b[90m━━━━━━━━━━━━━━\u001b[0m \u001b[32m122.9/196.4 kB\u001b[0m \u001b[31m4.3 MB/s\u001b[0m eta \u001b[36m0:00:01\u001b[0m\r\u001b[2K   \u001b[90m━━━━━━━━━━━━━━━━━━━━━━━━━━━━━━━━━━━━━━━━\u001b[0m \u001b[32m196.4/196.4 kB\u001b[0m \u001b[31m3.3 MB/s\u001b[0m eta \u001b[36m0:00:00\u001b[0m\n",
            "\u001b[?25h"
          ]
        }
      ]
    },
    {
      "cell_type": "code",
      "source": [
        "import asyncpraw\n",
        "import asyncio\n",
        "import aiohttp\n",
        "import nest_asyncio\n",
        "\n",
        "nest_asyncio.apply()\n",
        "\n",
        "async def get_most_downvoted_comments(subreddit_name, limit=20):\n",
        "    reddit = asyncpraw.Reddit(\n",
        "        client_id='PFmQMsDo_N9kdQAshcN8VQ',\n",
        "        client_secret='48jfkdAA7HghaLCoizMB4jZRPStlHg',\n",
        "        user_agent='querying_reddit_jae/0.1 by Impressive_Row_3516'\n",
        "    )\n",
        "\n",
        "    try:\n",
        "        subreddit = await reddit.subreddit(subreddit_name)\n",
        "        comments = []\n",
        "\n",
        "        async for submission in subreddit.hot(limit=limit):\n",
        "            try:\n",
        "                submission = await reddit.submission(id=submission.id)\n",
        "                submission.comment_sort = 'controversial'\n",
        "                await submission.comments.replace_more(limit=None)\n",
        "\n",
        "                def get_all_comments(comment_forest):\n",
        "                    all_comments = []\n",
        "                    for comment in comment_forest:\n",
        "                        all_comments.append(comment)\n",
        "                        all_comments.extend(get_all_comments(comment.replies))\n",
        "                    return all_comments\n",
        "\n",
        "                submission_comments = get_all_comments(submission.comments)\n",
        "                comments.extend(submission_comments)\n",
        "\n",
        "            except Exception as e:\n",
        "                print(f\"Error fetching comments for submission {submission.id}: {e}\")\n",
        "                continue\n",
        "\n",
        "        downvoted_comments = [c for c in comments if hasattr(c, 'score') and c.score < 0]\n",
        "        downvoted_comments.sort(key=lambda x: x.score)\n",
        "\n",
        "        for comment in downvoted_comments[:10]:\n",
        "            try:\n",
        "                author = comment.author.name if comment.author else \"[deleted]\"\n",
        "                print(f\"Comment ID: {comment.id}\")\n",
        "                print(f\"Author: {author}\")\n",
        "                print(f\"Score: {comment.score}\")\n",
        "                print(f\"Link: https://reddit.com{comment.permalink}\")\n",
        "                print(f\"Comment Body: {comment.body[:300]}...\")\n",
        "                print(\"------\")\n",
        "            except Exception as e:\n",
        "                print(f\"Error displaying comment {comment.id}: {e}\")\n",
        "\n",
        "    finally:\n",
        "        await reddit.close()\n",
        "\n",
        "async def main():\n",
        "    async with aiohttp.ClientSession() as session:\n",
        "        await get_most_downvoted_comments('UCSD', limit=50)\n",
        "\n",
        "loop = asyncio.get_event_loop()\n",
        "loop.run_until_complete(main())"
      ],
      "metadata": {
        "colab": {
          "base_uri": "https://localhost:8080/"
        },
        "id": "BeoaOGeVHysb",
        "outputId": "fed12bb8-ccb8-4d72-d538-072602dd9eb7"
      },
      "execution_count": null,
      "outputs": [
        {
          "output_type": "stream",
          "name": "stderr",
          "text": [
            "<ipython-input-5-9d77ffdb5cc2>:24: UserWarning: The comments for this submission have already been fetched, so the updated comment_sort will not have any effect.\n",
            "  submission.comment_sort = 'controversial'\n"
          ]
        },
        {
          "output_type": "stream",
          "name": "stdout",
          "text": [
            "Comment ID: lv4gwb7\n",
            "Author: spheresickle\n",
            "Score: -7\n",
            "Link: https://reddit.com/r/UCSD/comments/1gibx51/upcoming_election/lv4gwb7/\n",
            "Comment Body: because no matter who wins the US will keep being the bad guys...\n",
            "------\n",
            "Comment ID: lv7vxvl\n",
            "Author: UCSDSuckmyBallz\n",
            "Score: -4\n",
            "Link: https://reddit.com/r/UCSD/comments/1git3iy/esports_program/lv7vxvl/\n",
            "Comment Body: Tec center is so greasy. Only degens play at it....\n",
            "------\n",
            "Comment ID: lv2i2us\n",
            "Author: XarkXD\n",
            "Score: -4\n",
            "Link: https://reddit.com/r/UCSD/comments/1gi3ccs/hi/lv2i2us/\n",
            "Comment Body: I can't believe you said that! I'm reporting you...\n",
            "------\n",
            "Comment ID: lv82k95\n",
            "Author: RandomsHater567\n",
            "Score: -3\n",
            "Link: https://reddit.com/r/UCSD/comments/1gibx51/upcoming_election/lv82k95/\n",
            "Comment Body: Most judges are extreme left wing its aight dude u gonna make out the hood...\n",
            "------\n",
            "Comment ID: lv5j0bj\n",
            "Author: Little-School2823\n",
            "Score: -1\n",
            "Link: https://reddit.com/r/UCSD/comments/1gibx51/upcoming_election/lv5j0bj/\n",
            "Comment Body: please give me an example of a president not installing a SC justice that doesn’t align with their values???...\n",
            "------\n",
            "Comment ID: lv2bm2m\n",
            "Author: OkDoughnut994\n",
            "Score: -1\n",
            "Link: https://reddit.com/r/UCSD/comments/1gi3ccs/hi/lv2bm2m/\n",
            "Comment Body: Merhaba...\n",
            "------\n"
          ]
        }
      ]
    }
  ]
}